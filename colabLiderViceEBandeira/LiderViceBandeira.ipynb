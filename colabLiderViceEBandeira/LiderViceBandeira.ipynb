{
  "nbformat": 4,
  "nbformat_minor": 0,
  "metadata": {
    "colab": {
      "name": "LiderViceBandeira.ipynb",
      "provenance": [],
      "collapsed_sections": [
        "NTkYiKWyGKol",
        "_jrYy95RIa9u"
      ]
    },
    "kernelspec": {
      "name": "python3",
      "display_name": "Python 3"
    },
    "language_info": {
      "name": "python"
    }
  },
  "cells": [
    {
      "cell_type": "markdown",
      "metadata": {
        "id": "mHZw6n2vG79Y"
      },
      "source": [
        "### Importação das bibliotecas necessárias"
      ]
    },
    {
      "cell_type": "code",
      "metadata": {
        "id": "JZiYxynyLX3Z"
      },
      "source": [
        "# Importar bibliotecas\n",
        "import pandas as pd\n",
        "import numpy as np\n",
        "import matplotlib.pyplot as plt\n",
        "import seaborn as sns\n",
        "import io\n",
        "\n",
        "#algoritmos\n",
        "from sklearn.cluster import KMeans\n",
        "from sklearn.naive_bayes import MultinomialNB\n",
        "from sklearn.naive_bayes import GaussianNB\n",
        "from sklearn.model_selection import GridSearchCV, RandomizedSearchCV\n",
        "from sklearn.ensemble import RandomForestClassifier\n",
        "from sklearn.svm import SVC, LinearSVC\n",
        "from sklearn.linear_model import SGDClassifier\n",
        "\n",
        "#separar dados de treino e teste\n",
        "from sklearn.model_selection import train_test_split\n",
        "\n",
        "# exibir metricas\n",
        "from sklearn.metrics import confusion_matrix\n",
        "from sklearn.metrics import accuracy_score\n",
        "from sklearn.metrics import f1_score\n",
        "from sklearn.metrics import precision_score\n",
        "from sklearn.metrics import recall_score\n",
        "from sklearn import metrics"
      ],
      "execution_count": 113,
      "outputs": []
    },
    {
      "cell_type": "markdown",
      "metadata": {
        "id": "38Moh6V_HEWC"
      },
      "source": [
        "Importação dos dados do MS Excel"
      ]
    },
    {
      "cell_type": "code",
      "metadata": {
        "id": "WYEimEcesOtW"
      },
      "source": [
        "df = pd.read_excel('/content/arquetipos2.xlsx')"
      ],
      "execution_count": 114,
      "outputs": []
    },
    {
      "cell_type": "markdown",
      "metadata": {
        "id": "NTkYiKWyGKol"
      },
      "source": [
        "### Verificação inicial dos dados"
      ]
    },
    {
      "cell_type": "code",
      "metadata": {
        "colab": {
          "base_uri": "https://localhost:8080/",
          "height": 363
        },
        "id": "tTp0QQ1lL5ox",
        "outputId": "6bfc88e3-98d6-45bd-80c0-25e19ad220a2"
      },
      "source": [
        "df.sample(10)"
      ],
      "execution_count": 6,
      "outputs": [
        {
          "output_type": "execute_result",
          "data": {
            "text/html": [
              "<div>\n",
              "<style scoped>\n",
              "    .dataframe tbody tr th:only-of-type {\n",
              "        vertical-align: middle;\n",
              "    }\n",
              "\n",
              "    .dataframe tbody tr th {\n",
              "        vertical-align: top;\n",
              "    }\n",
              "\n",
              "    .dataframe thead th {\n",
              "        text-align: right;\n",
              "    }\n",
              "</style>\n",
              "<table border=\"1\" class=\"dataframe\">\n",
              "  <thead>\n",
              "    <tr style=\"text-align: right;\">\n",
              "      <th></th>\n",
              "      <th>IDArquetipo</th>\n",
              "      <th>Arquetipo</th>\n",
              "      <th>Cerebro</th>\n",
              "      <th>Coracao</th>\n",
              "      <th>Aberto</th>\n",
              "      <th>Fechado</th>\n",
              "      <th>Projecoes</th>\n",
              "      <th>Fatos</th>\n",
              "      <th>Geral</th>\n",
              "      <th>Detalhes</th>\n",
              "      <th>Status</th>\n",
              "    </tr>\n",
              "  </thead>\n",
              "  <tbody>\n",
              "    <tr>\n",
              "      <th>216</th>\n",
              "      <td>14</td>\n",
              "      <td>REGULADOR</td>\n",
              "      <td>0</td>\n",
              "      <td>1</td>\n",
              "      <td>0</td>\n",
              "      <td>1</td>\n",
              "      <td>0</td>\n",
              "      <td>1</td>\n",
              "      <td>0</td>\n",
              "      <td>1</td>\n",
              "      <td>1</td>\n",
              "    </tr>\n",
              "    <tr>\n",
              "      <th>22</th>\n",
              "      <td>1</td>\n",
              "      <td>ADMINISTRADOR</td>\n",
              "      <td>1</td>\n",
              "      <td>0</td>\n",
              "      <td>1</td>\n",
              "      <td>0</td>\n",
              "      <td>0</td>\n",
              "      <td>1</td>\n",
              "      <td>0</td>\n",
              "      <td>1</td>\n",
              "      <td>1</td>\n",
              "    </tr>\n",
              "    <tr>\n",
              "      <th>137</th>\n",
              "      <td>10</td>\n",
              "      <td>EXECUTOR</td>\n",
              "      <td>0</td>\n",
              "      <td>1</td>\n",
              "      <td>1</td>\n",
              "      <td>0</td>\n",
              "      <td>1</td>\n",
              "      <td>0</td>\n",
              "      <td>1</td>\n",
              "      <td>0</td>\n",
              "      <td>1</td>\n",
              "    </tr>\n",
              "    <tr>\n",
              "      <th>485</th>\n",
              "      <td>15</td>\n",
              "      <td>TUTOR</td>\n",
              "      <td>1</td>\n",
              "      <td>0</td>\n",
              "      <td>1</td>\n",
              "      <td>0</td>\n",
              "      <td>0</td>\n",
              "      <td>1</td>\n",
              "      <td>1</td>\n",
              "      <td>0</td>\n",
              "      <td>2</td>\n",
              "    </tr>\n",
              "    <tr>\n",
              "      <th>70</th>\n",
              "      <td>8</td>\n",
              "      <td>EMPREENDEDOR</td>\n",
              "      <td>0</td>\n",
              "      <td>1</td>\n",
              "      <td>1</td>\n",
              "      <td>0</td>\n",
              "      <td>0</td>\n",
              "      <td>1</td>\n",
              "      <td>0</td>\n",
              "      <td>1</td>\n",
              "      <td>1</td>\n",
              "    </tr>\n",
              "    <tr>\n",
              "      <th>270</th>\n",
              "      <td>1</td>\n",
              "      <td>ADMINISTRADOR</td>\n",
              "      <td>1</td>\n",
              "      <td>0</td>\n",
              "      <td>1</td>\n",
              "      <td>0</td>\n",
              "      <td>0</td>\n",
              "      <td>1</td>\n",
              "      <td>0</td>\n",
              "      <td>1</td>\n",
              "      <td>2</td>\n",
              "    </tr>\n",
              "    <tr>\n",
              "      <th>373</th>\n",
              "      <td>6</td>\n",
              "      <td>CUIDADOR</td>\n",
              "      <td>0</td>\n",
              "      <td>1</td>\n",
              "      <td>1</td>\n",
              "      <td>0</td>\n",
              "      <td>0</td>\n",
              "      <td>1</td>\n",
              "      <td>0</td>\n",
              "      <td>1</td>\n",
              "      <td>2</td>\n",
              "    </tr>\n",
              "    <tr>\n",
              "      <th>73</th>\n",
              "      <td>8</td>\n",
              "      <td>EMPREENDEDOR</td>\n",
              "      <td>0</td>\n",
              "      <td>1</td>\n",
              "      <td>1</td>\n",
              "      <td>0</td>\n",
              "      <td>1</td>\n",
              "      <td>0</td>\n",
              "      <td>0</td>\n",
              "      <td>1</td>\n",
              "      <td>1</td>\n",
              "    </tr>\n",
              "    <tr>\n",
              "      <th>206</th>\n",
              "      <td>14</td>\n",
              "      <td>REGULADOR</td>\n",
              "      <td>1</td>\n",
              "      <td>0</td>\n",
              "      <td>0</td>\n",
              "      <td>1</td>\n",
              "      <td>0</td>\n",
              "      <td>1</td>\n",
              "      <td>0</td>\n",
              "      <td>1</td>\n",
              "      <td>1</td>\n",
              "    </tr>\n",
              "    <tr>\n",
              "      <th>448</th>\n",
              "      <td>13</td>\n",
              "      <td>MESTRE</td>\n",
              "      <td>0</td>\n",
              "      <td>1</td>\n",
              "      <td>0</td>\n",
              "      <td>1</td>\n",
              "      <td>1</td>\n",
              "      <td>0</td>\n",
              "      <td>0</td>\n",
              "      <td>1</td>\n",
              "      <td>2</td>\n",
              "    </tr>\n",
              "  </tbody>\n",
              "</table>\n",
              "</div>"
            ],
            "text/plain": [
              "     IDArquetipo      Arquetipo  Cerebro  ...  Geral  Detalhes  Status\n",
              "216           14      REGULADOR        0  ...      0         1       1\n",
              "22             1  ADMINISTRADOR        1  ...      0         1       1\n",
              "137           10       EXECUTOR        0  ...      1         0       1\n",
              "485           15          TUTOR        1  ...      1         0       2\n",
              "70             8   EMPREENDEDOR        0  ...      0         1       1\n",
              "270            1  ADMINISTRADOR        1  ...      0         1       2\n",
              "373            6       CUIDADOR        0  ...      0         1       2\n",
              "73             8   EMPREENDEDOR        0  ...      0         1       1\n",
              "206           14      REGULADOR        1  ...      0         1       1\n",
              "448           13         MESTRE        0  ...      0         1       2\n",
              "\n",
              "[10 rows x 11 columns]"
            ]
          },
          "metadata": {},
          "execution_count": 6
        }
      ]
    },
    {
      "cell_type": "code",
      "metadata": {
        "colab": {
          "base_uri": "https://localhost:8080/",
          "height": 300
        },
        "id": "lxM-7LhLiivB",
        "outputId": "842b3884-0f01-40a8-be22-40ef89273ca5"
      },
      "source": [
        "df.describe()"
      ],
      "execution_count": 7,
      "outputs": [
        {
          "output_type": "execute_result",
          "data": {
            "text/html": [
              "<div>\n",
              "<style scoped>\n",
              "    .dataframe tbody tr th:only-of-type {\n",
              "        vertical-align: middle;\n",
              "    }\n",
              "\n",
              "    .dataframe tbody tr th {\n",
              "        vertical-align: top;\n",
              "    }\n",
              "\n",
              "    .dataframe thead th {\n",
              "        text-align: right;\n",
              "    }\n",
              "</style>\n",
              "<table border=\"1\" class=\"dataframe\">\n",
              "  <thead>\n",
              "    <tr style=\"text-align: right;\">\n",
              "      <th></th>\n",
              "      <th>IDArquetipo</th>\n",
              "      <th>Cerebro</th>\n",
              "      <th>Coracao</th>\n",
              "      <th>Aberto</th>\n",
              "      <th>Fechado</th>\n",
              "      <th>Projecoes</th>\n",
              "      <th>Fatos</th>\n",
              "      <th>Geral</th>\n",
              "      <th>Detalhes</th>\n",
              "      <th>Status</th>\n",
              "    </tr>\n",
              "  </thead>\n",
              "  <tbody>\n",
              "    <tr>\n",
              "      <th>count</th>\n",
              "      <td>798.000000</td>\n",
              "      <td>798.000000</td>\n",
              "      <td>798.000000</td>\n",
              "      <td>798.000000</td>\n",
              "      <td>798.000000</td>\n",
              "      <td>798.000000</td>\n",
              "      <td>798.000000</td>\n",
              "      <td>798.000000</td>\n",
              "      <td>798.000000</td>\n",
              "      <td>798.000000</td>\n",
              "    </tr>\n",
              "    <tr>\n",
              "      <th>mean</th>\n",
              "      <td>8.525063</td>\n",
              "      <td>0.413534</td>\n",
              "      <td>0.586466</td>\n",
              "      <td>0.687970</td>\n",
              "      <td>0.312030</td>\n",
              "      <td>0.590226</td>\n",
              "      <td>0.409774</td>\n",
              "      <td>0.488722</td>\n",
              "      <td>0.511278</td>\n",
              "      <td>1.996241</td>\n",
              "    </tr>\n",
              "    <tr>\n",
              "      <th>std</th>\n",
              "      <td>4.267557</td>\n",
              "      <td>0.492776</td>\n",
              "      <td>0.492776</td>\n",
              "      <td>0.463613</td>\n",
              "      <td>0.463613</td>\n",
              "      <td>0.492100</td>\n",
              "      <td>0.492100</td>\n",
              "      <td>0.500186</td>\n",
              "      <td>0.500186</td>\n",
              "      <td>0.816232</td>\n",
              "    </tr>\n",
              "    <tr>\n",
              "      <th>min</th>\n",
              "      <td>1.000000</td>\n",
              "      <td>0.000000</td>\n",
              "      <td>0.000000</td>\n",
              "      <td>0.000000</td>\n",
              "      <td>0.000000</td>\n",
              "      <td>0.000000</td>\n",
              "      <td>0.000000</td>\n",
              "      <td>0.000000</td>\n",
              "      <td>0.000000</td>\n",
              "      <td>1.000000</td>\n",
              "    </tr>\n",
              "    <tr>\n",
              "      <th>25%</th>\n",
              "      <td>5.000000</td>\n",
              "      <td>0.000000</td>\n",
              "      <td>0.000000</td>\n",
              "      <td>0.000000</td>\n",
              "      <td>0.000000</td>\n",
              "      <td>0.000000</td>\n",
              "      <td>0.000000</td>\n",
              "      <td>0.000000</td>\n",
              "      <td>0.000000</td>\n",
              "      <td>1.000000</td>\n",
              "    </tr>\n",
              "    <tr>\n",
              "      <th>50%</th>\n",
              "      <td>9.000000</td>\n",
              "      <td>0.000000</td>\n",
              "      <td>1.000000</td>\n",
              "      <td>1.000000</td>\n",
              "      <td>0.000000</td>\n",
              "      <td>1.000000</td>\n",
              "      <td>0.000000</td>\n",
              "      <td>0.000000</td>\n",
              "      <td>1.000000</td>\n",
              "      <td>2.000000</td>\n",
              "    </tr>\n",
              "    <tr>\n",
              "      <th>75%</th>\n",
              "      <td>12.000000</td>\n",
              "      <td>1.000000</td>\n",
              "      <td>1.000000</td>\n",
              "      <td>1.000000</td>\n",
              "      <td>1.000000</td>\n",
              "      <td>1.000000</td>\n",
              "      <td>1.000000</td>\n",
              "      <td>1.000000</td>\n",
              "      <td>1.000000</td>\n",
              "      <td>3.000000</td>\n",
              "    </tr>\n",
              "    <tr>\n",
              "      <th>max</th>\n",
              "      <td>16.000000</td>\n",
              "      <td>1.000000</td>\n",
              "      <td>1.000000</td>\n",
              "      <td>1.000000</td>\n",
              "      <td>1.000000</td>\n",
              "      <td>1.000000</td>\n",
              "      <td>1.000000</td>\n",
              "      <td>1.000000</td>\n",
              "      <td>1.000000</td>\n",
              "      <td>3.000000</td>\n",
              "    </tr>\n",
              "  </tbody>\n",
              "</table>\n",
              "</div>"
            ],
            "text/plain": [
              "       IDArquetipo     Cerebro     Coracao  ...       Geral    Detalhes      Status\n",
              "count   798.000000  798.000000  798.000000  ...  798.000000  798.000000  798.000000\n",
              "mean      8.525063    0.413534    0.586466  ...    0.488722    0.511278    1.996241\n",
              "std       4.267557    0.492776    0.492776  ...    0.500186    0.500186    0.816232\n",
              "min       1.000000    0.000000    0.000000  ...    0.000000    0.000000    1.000000\n",
              "25%       5.000000    0.000000    0.000000  ...    0.000000    0.000000    1.000000\n",
              "50%       9.000000    0.000000    1.000000  ...    0.000000    1.000000    2.000000\n",
              "75%      12.000000    1.000000    1.000000  ...    1.000000    1.000000    3.000000\n",
              "max      16.000000    1.000000    1.000000  ...    1.000000    1.000000    3.000000\n",
              "\n",
              "[8 rows x 10 columns]"
            ]
          },
          "metadata": {},
          "execution_count": 7
        }
      ]
    },
    {
      "cell_type": "code",
      "metadata": {
        "colab": {
          "base_uri": "https://localhost:8080/"
        },
        "id": "A6OYJy4micOf",
        "outputId": "a0f2ad0f-2620-4a12-e355-bc2f8851e6c7"
      },
      "source": [
        "df.duplicated().sum()"
      ],
      "execution_count": 8,
      "outputs": [
        {
          "output_type": "execute_result",
          "data": {
            "text/plain": [
              "730"
            ]
          },
          "metadata": {},
          "execution_count": 8
        }
      ]
    },
    {
      "cell_type": "code",
      "metadata": {
        "colab": {
          "base_uri": "https://localhost:8080/",
          "height": 363
        },
        "id": "-NRcyHzvL_Ih",
        "outputId": "f977b55b-0e4b-4236-8d96-844ef56fbaec"
      },
      "source": [
        "#transformar arquetipo em código, apenas para testar\n",
        "df['Arquetipo'] = df['Arquetipo'].astype('category').cat.codes\n",
        "df.sample(10)"
      ],
      "execution_count": 9,
      "outputs": [
        {
          "output_type": "execute_result",
          "data": {
            "text/html": [
              "<div>\n",
              "<style scoped>\n",
              "    .dataframe tbody tr th:only-of-type {\n",
              "        vertical-align: middle;\n",
              "    }\n",
              "\n",
              "    .dataframe tbody tr th {\n",
              "        vertical-align: top;\n",
              "    }\n",
              "\n",
              "    .dataframe thead th {\n",
              "        text-align: right;\n",
              "    }\n",
              "</style>\n",
              "<table border=\"1\" class=\"dataframe\">\n",
              "  <thead>\n",
              "    <tr style=\"text-align: right;\">\n",
              "      <th></th>\n",
              "      <th>IDArquetipo</th>\n",
              "      <th>Arquetipo</th>\n",
              "      <th>Cerebro</th>\n",
              "      <th>Coracao</th>\n",
              "      <th>Aberto</th>\n",
              "      <th>Fechado</th>\n",
              "      <th>Projecoes</th>\n",
              "      <th>Fatos</th>\n",
              "      <th>Geral</th>\n",
              "      <th>Detalhes</th>\n",
              "      <th>Status</th>\n",
              "    </tr>\n",
              "  </thead>\n",
              "  <tbody>\n",
              "    <tr>\n",
              "      <th>59</th>\n",
              "      <td>5</td>\n",
              "      <td>4</td>\n",
              "      <td>1</td>\n",
              "      <td>0</td>\n",
              "      <td>0</td>\n",
              "      <td>1</td>\n",
              "      <td>1</td>\n",
              "      <td>0</td>\n",
              "      <td>0</td>\n",
              "      <td>1</td>\n",
              "      <td>1</td>\n",
              "    </tr>\n",
              "    <tr>\n",
              "      <th>630</th>\n",
              "      <td>7</td>\n",
              "      <td>6</td>\n",
              "      <td>0</td>\n",
              "      <td>1</td>\n",
              "      <td>1</td>\n",
              "      <td>0</td>\n",
              "      <td>1</td>\n",
              "      <td>0</td>\n",
              "      <td>0</td>\n",
              "      <td>1</td>\n",
              "      <td>3</td>\n",
              "    </tr>\n",
              "    <tr>\n",
              "      <th>635</th>\n",
              "      <td>7</td>\n",
              "      <td>6</td>\n",
              "      <td>0</td>\n",
              "      <td>1</td>\n",
              "      <td>1</td>\n",
              "      <td>0</td>\n",
              "      <td>1</td>\n",
              "      <td>0</td>\n",
              "      <td>0</td>\n",
              "      <td>1</td>\n",
              "      <td>3</td>\n",
              "    </tr>\n",
              "    <tr>\n",
              "      <th>364</th>\n",
              "      <td>5</td>\n",
              "      <td>4</td>\n",
              "      <td>1</td>\n",
              "      <td>0</td>\n",
              "      <td>0</td>\n",
              "      <td>1</td>\n",
              "      <td>1</td>\n",
              "      <td>0</td>\n",
              "      <td>0</td>\n",
              "      <td>1</td>\n",
              "      <td>2</td>\n",
              "    </tr>\n",
              "    <tr>\n",
              "      <th>443</th>\n",
              "      <td>13</td>\n",
              "      <td>12</td>\n",
              "      <td>0</td>\n",
              "      <td>1</td>\n",
              "      <td>0</td>\n",
              "      <td>1</td>\n",
              "      <td>1</td>\n",
              "      <td>0</td>\n",
              "      <td>0</td>\n",
              "      <td>1</td>\n",
              "      <td>2</td>\n",
              "    </tr>\n",
              "    <tr>\n",
              "      <th>514</th>\n",
              "      <td>15</td>\n",
              "      <td>14</td>\n",
              "      <td>1</td>\n",
              "      <td>0</td>\n",
              "      <td>1</td>\n",
              "      <td>0</td>\n",
              "      <td>1</td>\n",
              "      <td>0</td>\n",
              "      <td>1</td>\n",
              "      <td>0</td>\n",
              "      <td>2</td>\n",
              "    </tr>\n",
              "    <tr>\n",
              "      <th>639</th>\n",
              "      <td>7</td>\n",
              "      <td>6</td>\n",
              "      <td>0</td>\n",
              "      <td>1</td>\n",
              "      <td>1</td>\n",
              "      <td>0</td>\n",
              "      <td>1</td>\n",
              "      <td>0</td>\n",
              "      <td>0</td>\n",
              "      <td>1</td>\n",
              "      <td>3</td>\n",
              "    </tr>\n",
              "    <tr>\n",
              "      <th>198</th>\n",
              "      <td>14</td>\n",
              "      <td>13</td>\n",
              "      <td>1</td>\n",
              "      <td>0</td>\n",
              "      <td>0</td>\n",
              "      <td>1</td>\n",
              "      <td>0</td>\n",
              "      <td>1</td>\n",
              "      <td>0</td>\n",
              "      <td>1</td>\n",
              "      <td>1</td>\n",
              "    </tr>\n",
              "    <tr>\n",
              "      <th>158</th>\n",
              "      <td>10</td>\n",
              "      <td>9</td>\n",
              "      <td>1</td>\n",
              "      <td>0</td>\n",
              "      <td>1</td>\n",
              "      <td>0</td>\n",
              "      <td>0</td>\n",
              "      <td>1</td>\n",
              "      <td>1</td>\n",
              "      <td>0</td>\n",
              "      <td>1</td>\n",
              "    </tr>\n",
              "    <tr>\n",
              "      <th>371</th>\n",
              "      <td>6</td>\n",
              "      <td>5</td>\n",
              "      <td>0</td>\n",
              "      <td>1</td>\n",
              "      <td>1</td>\n",
              "      <td>0</td>\n",
              "      <td>0</td>\n",
              "      <td>1</td>\n",
              "      <td>0</td>\n",
              "      <td>1</td>\n",
              "      <td>2</td>\n",
              "    </tr>\n",
              "  </tbody>\n",
              "</table>\n",
              "</div>"
            ],
            "text/plain": [
              "     IDArquetipo  Arquetipo  Cerebro  Coracao  ...  Fatos  Geral  Detalhes  Status\n",
              "59             5          4        1        0  ...      0      0         1       1\n",
              "630            7          6        0        1  ...      0      0         1       3\n",
              "635            7          6        0        1  ...      0      0         1       3\n",
              "364            5          4        1        0  ...      0      0         1       2\n",
              "443           13         12        0        1  ...      0      0         1       2\n",
              "514           15         14        1        0  ...      0      1         0       2\n",
              "639            7          6        0        1  ...      0      0         1       3\n",
              "198           14         13        1        0  ...      1      0         1       1\n",
              "158           10          9        1        0  ...      1      1         0       1\n",
              "371            6          5        0        1  ...      1      0         1       2\n",
              "\n",
              "[10 rows x 11 columns]"
            ]
          },
          "metadata": {},
          "execution_count": 9
        }
      ]
    },
    {
      "cell_type": "code",
      "metadata": {
        "id": "nquhuZ_ML_GA"
      },
      "source": [
        "df = df.drop('Arquetipo', axis=1)"
      ],
      "execution_count": 10,
      "outputs": []
    },
    {
      "cell_type": "code",
      "metadata": {
        "colab": {
          "base_uri": "https://localhost:8080/",
          "height": 363
        },
        "id": "NvZs_LSfj-CY",
        "outputId": "bfed1c89-4145-4346-abd3-e953fcd5965b"
      },
      "source": [
        "df.corr()"
      ],
      "execution_count": 11,
      "outputs": [
        {
          "output_type": "execute_result",
          "data": {
            "text/html": [
              "<div>\n",
              "<style scoped>\n",
              "    .dataframe tbody tr th:only-of-type {\n",
              "        vertical-align: middle;\n",
              "    }\n",
              "\n",
              "    .dataframe tbody tr th {\n",
              "        vertical-align: top;\n",
              "    }\n",
              "\n",
              "    .dataframe thead th {\n",
              "        text-align: right;\n",
              "    }\n",
              "</style>\n",
              "<table border=\"1\" class=\"dataframe\">\n",
              "  <thead>\n",
              "    <tr style=\"text-align: right;\">\n",
              "      <th></th>\n",
              "      <th>IDArquetipo</th>\n",
              "      <th>Cerebro</th>\n",
              "      <th>Coracao</th>\n",
              "      <th>Aberto</th>\n",
              "      <th>Fechado</th>\n",
              "      <th>Projecoes</th>\n",
              "      <th>Fatos</th>\n",
              "      <th>Geral</th>\n",
              "      <th>Detalhes</th>\n",
              "      <th>Status</th>\n",
              "    </tr>\n",
              "  </thead>\n",
              "  <tbody>\n",
              "    <tr>\n",
              "      <th>IDArquetipo</th>\n",
              "      <td>1.000000</td>\n",
              "      <td>0.026091</td>\n",
              "      <td>-0.026091</td>\n",
              "      <td>-0.244321</td>\n",
              "      <td>0.244321</td>\n",
              "      <td>0.165314</td>\n",
              "      <td>-0.165314</td>\n",
              "      <td>0.001308</td>\n",
              "      <td>-0.001308</td>\n",
              "      <td>-0.176653</td>\n",
              "    </tr>\n",
              "    <tr>\n",
              "      <th>Cerebro</th>\n",
              "      <td>0.026091</td>\n",
              "      <td>1.000000</td>\n",
              "      <td>-1.000000</td>\n",
              "      <td>-0.192388</td>\n",
              "      <td>0.192388</td>\n",
              "      <td>-0.169580</td>\n",
              "      <td>0.169580</td>\n",
              "      <td>-0.149041</td>\n",
              "      <td>0.149041</td>\n",
              "      <td>-0.052280</td>\n",
              "    </tr>\n",
              "    <tr>\n",
              "      <th>Coracao</th>\n",
              "      <td>-0.026091</td>\n",
              "      <td>-1.000000</td>\n",
              "      <td>1.000000</td>\n",
              "      <td>0.192388</td>\n",
              "      <td>-0.192388</td>\n",
              "      <td>0.169580</td>\n",
              "      <td>-0.169580</td>\n",
              "      <td>0.149041</td>\n",
              "      <td>-0.149041</td>\n",
              "      <td>0.052280</td>\n",
              "    </tr>\n",
              "    <tr>\n",
              "      <th>Aberto</th>\n",
              "      <td>-0.244321</td>\n",
              "      <td>-0.192388</td>\n",
              "      <td>0.192388</td>\n",
              "      <td>1.000000</td>\n",
              "      <td>-1.000000</td>\n",
              "      <td>0.197800</td>\n",
              "      <td>-0.197800</td>\n",
              "      <td>0.236403</td>\n",
              "      <td>-0.236403</td>\n",
              "      <td>0.126208</td>\n",
              "    </tr>\n",
              "    <tr>\n",
              "      <th>Fechado</th>\n",
              "      <td>0.244321</td>\n",
              "      <td>0.192388</td>\n",
              "      <td>-0.192388</td>\n",
              "      <td>-1.000000</td>\n",
              "      <td>1.000000</td>\n",
              "      <td>-0.197800</td>\n",
              "      <td>0.197800</td>\n",
              "      <td>-0.236403</td>\n",
              "      <td>0.236403</td>\n",
              "      <td>-0.126208</td>\n",
              "    </tr>\n",
              "    <tr>\n",
              "      <th>Projecoes</th>\n",
              "      <td>0.165314</td>\n",
              "      <td>-0.169580</td>\n",
              "      <td>0.169580</td>\n",
              "      <td>0.197800</td>\n",
              "      <td>-0.197800</td>\n",
              "      <td>1.000000</td>\n",
              "      <td>-1.000000</td>\n",
              "      <td>0.294696</td>\n",
              "      <td>-0.294696</td>\n",
              "      <td>0.061758</td>\n",
              "    </tr>\n",
              "    <tr>\n",
              "      <th>Fatos</th>\n",
              "      <td>-0.165314</td>\n",
              "      <td>0.169580</td>\n",
              "      <td>-0.169580</td>\n",
              "      <td>-0.197800</td>\n",
              "      <td>0.197800</td>\n",
              "      <td>-1.000000</td>\n",
              "      <td>1.000000</td>\n",
              "      <td>-0.294696</td>\n",
              "      <td>0.294696</td>\n",
              "      <td>-0.061758</td>\n",
              "    </tr>\n",
              "    <tr>\n",
              "      <th>Geral</th>\n",
              "      <td>0.001308</td>\n",
              "      <td>-0.149041</td>\n",
              "      <td>0.149041</td>\n",
              "      <td>0.236403</td>\n",
              "      <td>-0.236403</td>\n",
              "      <td>0.294696</td>\n",
              "      <td>-0.294696</td>\n",
              "      <td>1.000000</td>\n",
              "      <td>-1.000000</td>\n",
              "      <td>0.041385</td>\n",
              "    </tr>\n",
              "    <tr>\n",
              "      <th>Detalhes</th>\n",
              "      <td>-0.001308</td>\n",
              "      <td>0.149041</td>\n",
              "      <td>-0.149041</td>\n",
              "      <td>-0.236403</td>\n",
              "      <td>0.236403</td>\n",
              "      <td>-0.294696</td>\n",
              "      <td>0.294696</td>\n",
              "      <td>-1.000000</td>\n",
              "      <td>1.000000</td>\n",
              "      <td>-0.041385</td>\n",
              "    </tr>\n",
              "    <tr>\n",
              "      <th>Status</th>\n",
              "      <td>-0.176653</td>\n",
              "      <td>-0.052280</td>\n",
              "      <td>0.052280</td>\n",
              "      <td>0.126208</td>\n",
              "      <td>-0.126208</td>\n",
              "      <td>0.061758</td>\n",
              "      <td>-0.061758</td>\n",
              "      <td>0.041385</td>\n",
              "      <td>-0.041385</td>\n",
              "      <td>1.000000</td>\n",
              "    </tr>\n",
              "  </tbody>\n",
              "</table>\n",
              "</div>"
            ],
            "text/plain": [
              "             IDArquetipo   Cerebro   Coracao  ...     Geral  Detalhes    Status\n",
              "IDArquetipo     1.000000  0.026091 -0.026091  ...  0.001308 -0.001308 -0.176653\n",
              "Cerebro         0.026091  1.000000 -1.000000  ... -0.149041  0.149041 -0.052280\n",
              "Coracao        -0.026091 -1.000000  1.000000  ...  0.149041 -0.149041  0.052280\n",
              "Aberto         -0.244321 -0.192388  0.192388  ...  0.236403 -0.236403  0.126208\n",
              "Fechado         0.244321  0.192388 -0.192388  ... -0.236403  0.236403 -0.126208\n",
              "Projecoes       0.165314 -0.169580  0.169580  ...  0.294696 -0.294696  0.061758\n",
              "Fatos          -0.165314  0.169580 -0.169580  ... -0.294696  0.294696 -0.061758\n",
              "Geral           0.001308 -0.149041  0.149041  ...  1.000000 -1.000000  0.041385\n",
              "Detalhes       -0.001308  0.149041 -0.149041  ... -1.000000  1.000000 -0.041385\n",
              "Status         -0.176653 -0.052280  0.052280  ...  0.041385 -0.041385  1.000000\n",
              "\n",
              "[10 rows x 10 columns]"
            ]
          },
          "metadata": {},
          "execution_count": 11
        }
      ]
    },
    {
      "cell_type": "code",
      "metadata": {
        "colab": {
          "base_uri": "https://localhost:8080/",
          "height": 319
        },
        "id": "gk7zTANeL_DQ",
        "outputId": "9c458f6e-6f69-408d-b595-a49246db1154"
      },
      "source": [
        "sns.heatmap(df.corr());"
      ],
      "execution_count": 12,
      "outputs": [
        {
          "output_type": "display_data",
          "data": {
            "image/png": "[encoded data removed]",
            "text/plain": [
              "<Figure size 432x288 with 2 Axes>"
            ]
          },
          "metadata": {
            "needs_background": "light"
          }
        }
      ]
    },
    {
      "cell_type": "markdown",
      "metadata": {
        "id": "_jrYy95RIa9u"
      },
      "source": [
        "### Agrupamento ###"
      ]
    },
    {
      "cell_type": "markdown",
      "metadata": {
        "id": "-Ne0ZhaXGYW8"
      },
      "source": [
        "Aplicamos a clusterização para analisar o agrupamentos dos arquétipos quanto a classificação recebida de líder, vice-líder e bandeira. \n",
        "Foi utilizado o método do cotovelo e mais para o final o PCa que conseguiu demonstrar melhor esses grupos diminuindo a dimensionalidade dos dados."
      ]
    },
    {
      "cell_type": "code",
      "metadata": {
        "id": "i-ZYgiWeL-_G"
      },
      "source": [
        "df1 = df[['IDArquetipo','Status']]"
      ],
      "execution_count": 13,
      "outputs": []
    },
    {
      "cell_type": "code",
      "metadata": {
        "id": "9TF6m8GkL-pI"
      },
      "source": [
        "df1.columns = ['Arquetipo', 'Tipo']"
      ],
      "execution_count": 14,
      "outputs": []
    },
    {
      "cell_type": "code",
      "metadata": {
        "colab": {
          "base_uri": "https://localhost:8080/",
          "height": 363
        },
        "id": "vUr0xrFUN7GP",
        "outputId": "4fed64cf-7764-4582-9138-af849344287d"
      },
      "source": [
        "df1.sample(10)"
      ],
      "execution_count": 15,
      "outputs": [
        {
          "output_type": "execute_result",
          "data": {
            "text/html": [
              "<div>\n",
              "<style scoped>\n",
              "    .dataframe tbody tr th:only-of-type {\n",
              "        vertical-align: middle;\n",
              "    }\n",
              "\n",
              "    .dataframe tbody tr th {\n",
              "        vertical-align: top;\n",
              "    }\n",
              "\n",
              "    .dataframe thead th {\n",
              "        text-align: right;\n",
              "    }\n",
              "</style>\n",
              "<table border=\"1\" class=\"dataframe\">\n",
              "  <thead>\n",
              "    <tr style=\"text-align: right;\">\n",
              "      <th></th>\n",
              "      <th>Arquetipo</th>\n",
              "      <th>Tipo</th>\n",
              "    </tr>\n",
              "  </thead>\n",
              "  <tbody>\n",
              "    <tr>\n",
              "      <th>783</th>\n",
              "      <td>14</td>\n",
              "      <td>3</td>\n",
              "    </tr>\n",
              "    <tr>\n",
              "      <th>446</th>\n",
              "      <td>13</td>\n",
              "      <td>2</td>\n",
              "    </tr>\n",
              "    <tr>\n",
              "      <th>630</th>\n",
              "      <td>7</td>\n",
              "      <td>3</td>\n",
              "    </tr>\n",
              "    <tr>\n",
              "      <th>290</th>\n",
              "      <td>3</td>\n",
              "      <td>2</td>\n",
              "    </tr>\n",
              "    <tr>\n",
              "      <th>481</th>\n",
              "      <td>15</td>\n",
              "      <td>2</td>\n",
              "    </tr>\n",
              "    <tr>\n",
              "      <th>521</th>\n",
              "      <td>16</td>\n",
              "      <td>2</td>\n",
              "    </tr>\n",
              "    <tr>\n",
              "      <th>246</th>\n",
              "      <td>14</td>\n",
              "      <td>1</td>\n",
              "    </tr>\n",
              "    <tr>\n",
              "      <th>482</th>\n",
              "      <td>15</td>\n",
              "      <td>2</td>\n",
              "    </tr>\n",
              "    <tr>\n",
              "      <th>474</th>\n",
              "      <td>15</td>\n",
              "      <td>2</td>\n",
              "    </tr>\n",
              "    <tr>\n",
              "      <th>440</th>\n",
              "      <td>12</td>\n",
              "      <td>2</td>\n",
              "    </tr>\n",
              "  </tbody>\n",
              "</table>\n",
              "</div>"
            ],
            "text/plain": [
              "     Arquetipo  Tipo\n",
              "783         14     3\n",
              "446         13     2\n",
              "630          7     3\n",
              "290          3     2\n",
              "481         15     2\n",
              "521         16     2\n",
              "246         14     1\n",
              "482         15     2\n",
              "474         15     2\n",
              "440         12     2"
            ]
          },
          "metadata": {},
          "execution_count": 15
        }
      ]
    },
    {
      "cell_type": "code",
      "metadata": {
        "colab": {
          "base_uri": "https://localhost:8080/"
        },
        "id": "YUfFmrTFN-bV",
        "outputId": "445a6dab-e36d-44ce-d35c-e2775dfd4a03"
      },
      "source": [
        "df1.shape"
      ],
      "execution_count": 16,
      "outputs": [
        {
          "output_type": "execute_result",
          "data": {
            "text/plain": [
              "(798, 2)"
            ]
          },
          "metadata": {},
          "execution_count": 16
        }
      ]
    },
    {
      "cell_type": "code",
      "metadata": {
        "colab": {
          "base_uri": "https://localhost:8080/",
          "height": 265
        },
        "id": "rm7Sc-hDN-Y_",
        "outputId": "04b21586-d789-4225-d8ad-36e98efb2b64"
      },
      "source": [
        "plt.scatter(df1['Tipo'], df1['Arquetipo'])\n",
        "plt.show()"
      ],
      "execution_count": 17,
      "outputs": [
        {
          "output_type": "display_data",
          "data": {
            "image/png": "[encoded data removed]",
            "text/plain": [
              "<Figure size 432x288 with 1 Axes>"
            ]
          },
          "metadata": {
            "needs_background": "light"
          }
        }
      ]
    },
    {
      "cell_type": "code",
      "metadata": {
        "colab": {
          "base_uri": "https://localhost:8080/",
          "height": 295
        },
        "id": "iIpddu9iN-VV",
        "outputId": "9919528e-8b28-4dd2-93dc-0866b673e786"
      },
      "source": [
        "variacoes = []\n",
        "for i in range(1,10):\n",
        "    kmeans=KMeans(n_clusters=i, init='k-means++')\n",
        "    kmeans.fit(df1)\n",
        "    variacoes.append(kmeans.inertia_)\n",
        "\n",
        "plt.plot(range(1,10), variacoes)\n",
        "plt.title('Método Cotovelo (Elbow)')\n",
        "plt.xlabel('Clusters')\n",
        "plt.ylabel('Variações')\n",
        "plt.show()"
      ],
      "execution_count": 18,
      "outputs": [
        {
          "output_type": "display_data",
          "data": {
            "image/png": "[encoded data removed]",
            "text/plain": [
              "<Figure size 432x288 with 1 Axes>"
            ]
          },
          "metadata": {
            "needs_background": "light"
          }
        }
      ]
    },
    {
      "cell_type": "code",
      "metadata": {
        "id": "axlRikLeN-N7"
      },
      "source": [
        "kmeans_final = KMeans(n_clusters=3)"
      ],
      "execution_count": 19,
      "outputs": []
    },
    {
      "cell_type": "code",
      "metadata": {
        "colab": {
          "base_uri": "https://localhost:8080/"
        },
        "id": "PJsBzfmGPLTT",
        "outputId": "a030b32f-25cd-4c3c-b61a-d9d6f4a96a89"
      },
      "source": [
        "kmeans_final.fit(df1)"
      ],
      "execution_count": 20,
      "outputs": [
        {
          "output_type": "execute_result",
          "data": {
            "text/plain": [
              "KMeans(n_clusters=3)"
            ]
          },
          "metadata": {},
          "execution_count": 20
        }
      ]
    },
    {
      "cell_type": "code",
      "metadata": {
        "id": "UnEVUSyHPLRV"
      },
      "source": [
        "cluster_pred = kmeans_final.predict(df1)"
      ],
      "execution_count": 21,
      "outputs": []
    },
    {
      "cell_type": "code",
      "metadata": {
        "id": "8V-7IvY2PLPE"
      },
      "source": [
        "cluster_centers = kmeans_final.cluster_centers_"
      ],
      "execution_count": 22,
      "outputs": []
    },
    {
      "cell_type": "code",
      "metadata": {
        "colab": {
          "base_uri": "https://localhost:8080/"
        },
        "id": "iUk_K-QEPLMx",
        "outputId": "4f43fd8e-c16c-4d22-ed23-09baa659deca"
      },
      "source": [
        "cluster_centers"
      ],
      "execution_count": 23,
      "outputs": [
        {
          "output_type": "execute_result",
          "data": {
            "text/plain": [
              "array([[ 8.51329787,  2.25265957],\n",
              "       [ 2.96698113,  1.96698113],\n",
              "       [14.15714286,  1.56666667]])"
            ]
          },
          "metadata": {},
          "execution_count": 23
        }
      ]
    },
    {
      "cell_type": "code",
      "metadata": {
        "colab": {
          "base_uri": "https://localhost:8080/",
          "height": 282
        },
        "id": "TZ8VqYvIPLKW",
        "outputId": "5a3bf5db-a156-4ad1-f67f-1e16afe3fe80"
      },
      "source": [
        "plt.scatter(cluster_centers[:,0], cluster_centers[:,1])"
      ],
      "execution_count": 24,
      "outputs": [
        {
          "output_type": "execute_result",
          "data": {
            "text/plain": [
              "<matplotlib.collections.PathCollection at 0x7f9e4a53b910>"
            ]
          },
          "metadata": {},
          "execution_count": 24
        },
        {
          "output_type": "display_data",
          "data": {
            "image/png": "[encoded data removed]",
            "text/plain": [
              "<Figure size 432x288 with 1 Axes>"
            ]
          },
          "metadata": {
            "needs_background": "light"
          }
        }
      ]
    },
    {
      "cell_type": "code",
      "metadata": {
        "colab": {
          "base_uri": "https://localhost:8080/",
          "height": 513
        },
        "id": "vmY9IAF7PLAY",
        "outputId": "b3e833ce-2563-4400-d40e-f449b599ca8b"
      },
      "source": [
        "plt.figure(figsize=(10,8))\n",
        "plt.scatter(df1.values[cluster_pred==0, 0], df1.values[cluster_pred==0, 1],s=100, label='Cluster 1 - Líder')\n",
        "plt.scatter(df1.values[cluster_pred==1, 0], df1.values[cluster_pred==1, 1],s=100, label='Cluster 2 - Vice-Líder')\n",
        "plt.scatter(df1.values[cluster_pred==2, 0], df1.values[cluster_pred==2, 1],s=100, label='Cluster 3 - Bandeira')\n",
        "plt.scatter(cluster_centers[:,0],cluster_centers[:,1], marker='+', s=200, c='black')\n",
        "plt.legend()\n",
        "plt.title('Classificação')\n",
        "plt.xlabel('Tipo')\n",
        "plt.ylabel('Arquétipo')\n",
        "plt.show()"
      ],
      "execution_count": 25,
      "outputs": [
        {
          "output_type": "display_data",
          "data": {
            "image/png": "[encoded data removed]",
            "text/plain": [
              "<Figure size 720x576 with 1 Axes>"
            ]
          },
          "metadata": {
            "needs_background": "light"
          }
        }
      ]
    },
    {
      "cell_type": "code",
      "metadata": {
        "id": "PH4vCiDVPo4Q"
      },
      "source": [
        "from sklearn.model_selection import train_test_split\n",
        "X_treino, X_teste, y_treino, y_teste = train_test_split(df1['Arquetipo'], df1['Tipo'], test_size=0.2, random_state=42)"
      ],
      "execution_count": 26,
      "outputs": []
    },
    {
      "cell_type": "code",
      "metadata": {
        "id": "3iRNoQcla70F",
        "colab": {
          "base_uri": "https://localhost:8080/"
        },
        "outputId": "8f8f5e75-0337-419c-a5ef-b072ce4ddb3c"
      },
      "source": [
        "from sklearn.decomposition import PCA\n",
        "pca = PCA(2)\n",
        "pca_data = pca.fit_transform(df)\n",
        "pca_data[:5]"
      ],
      "execution_count": 27,
      "outputs": [
        {
          "output_type": "execute_result",
          "data": {
            "text/plain": [
              "array([[7.51324078, 1.46276075],\n",
              "       [7.51324078, 1.46276075],\n",
              "       [7.51324078, 1.46276075],\n",
              "       [7.51324078, 1.46276075],\n",
              "       [7.51324078, 1.46276075]])"
            ]
          },
          "metadata": {},
          "execution_count": 27
        }
      ]
    },
    {
      "cell_type": "code",
      "metadata": {
        "id": "orukNE6ia7qV",
        "colab": {
          "base_uri": "https://localhost:8080/",
          "height": 565
        },
        "outputId": "d0715739-be49-42ef-df5a-057aad4bb010"
      },
      "source": [
        "plt.rcParams[\"figure.figsize\"] = (12, 8)\n",
        "plt.rcParams[\"figure.dpi\"] = 80\n",
        "plt.scatter(x=pca_data[:,0], y=pca_data[:,1], lw=2)\n",
        "plt.xlabel(\"Principle Component 1\")\n",
        "plt.ylabel(\"Principle Component 2\")\n",
        "plt.title(\"Principle Components Analysis\")\n",
        "plt.show()"
      ],
      "execution_count": 28,
      "outputs": [
        {
          "output_type": "display_data",
          "data": {
            "image/png": "[encoded data removed]",
            "text/plain": [
              "<Figure size 960x640 with 1 Axes>"
            ]
          },
          "metadata": {
            "needs_background": "light"
          }
        }
      ]
    },
    {
      "cell_type": "code",
      "metadata": {
        "colab": {
          "base_uri": "https://localhost:8080/",
          "height": 565
        },
        "id": "BbrxiBiJkkCV",
        "outputId": "76d8a27d-7e69-4067-f508-c8b5d76997a4"
      },
      "source": [
        "variacoes = []\n",
        "for i in range(1,10):\n",
        "    kmeans=KMeans(n_clusters=i, init='k-means++')\n",
        "    kmeans.fit(df)\n",
        "    variacoes.append(kmeans.inertia_)\n",
        "\n",
        "plt.plot(range(1,10), variacoes)\n",
        "plt.title('Método Cotovelo (Elbow)')\n",
        "plt.xlabel('Clusters')\n",
        "plt.ylabel('Variações')\n",
        "plt.show()"
      ],
      "execution_count": 29,
      "outputs": [
        {
          "output_type": "display_data",
          "data": {
            "image/png": "[encoded data removed]",
            "text/plain": [
              "<Figure size 960x640 with 1 Axes>"
            ]
          },
          "metadata": {
            "needs_background": "light"
          }
        }
      ]
    },
    {
      "cell_type": "code",
      "metadata": {
        "id": "ATOCQkwWksvc"
      },
      "source": [
        "kmeans_final = KMeans(n_clusters=3, init='k-means++', random_state=42)"
      ],
      "execution_count": 30,
      "outputs": []
    },
    {
      "cell_type": "code",
      "metadata": {
        "colab": {
          "base_uri": "https://localhost:8080/"
        },
        "id": "fURcty7ykv8n",
        "outputId": "eb51983d-21c5-4c42-c1e2-3a643c3269a6"
      },
      "source": [
        "cluster_pred = pd.Series(kmeans_final.fit_predict(df))\n",
        "cluster_pred"
      ],
      "execution_count": 31,
      "outputs": [
        {
          "output_type": "execute_result",
          "data": {
            "text/plain": [
              "0      1\n",
              "1      1\n",
              "2      1\n",
              "3      1\n",
              "4      1\n",
              "      ..\n",
              "793    1\n",
              "794    1\n",
              "795    1\n",
              "796    1\n",
              "797    1\n",
              "Length: 798, dtype: int32"
            ]
          },
          "metadata": {},
          "execution_count": 31
        }
      ]
    },
    {
      "cell_type": "code",
      "metadata": {
        "colab": {
          "base_uri": "https://localhost:8080/"
        },
        "id": "lSRRUCgqkzis",
        "outputId": "ec38e1d9-7c62-4a94-c392-2f5cc6c4b9db"
      },
      "source": [
        "cluster_pred.value_counts()"
      ],
      "execution_count": 32,
      "outputs": [
        {
          "output_type": "execute_result",
          "data": {
            "text/plain": [
              "0    326\n",
              "1    262\n",
              "2    210\n",
              "dtype: int64"
            ]
          },
          "metadata": {},
          "execution_count": 32
        }
      ]
    },
    {
      "cell_type": "code",
      "metadata": {
        "id": "hu1MI18Hkzgl",
        "colab": {
          "base_uri": "https://localhost:8080/"
        },
        "outputId": "ff9834b6-0ecd-40fe-8671-c7c85a66f5db"
      },
      "source": [
        "centroids = kmeans_final.cluster_centers_\n",
        "centroids_pca = pca.transform(centroids)"
      ],
      "execution_count": 33,
      "outputs": [
        {
          "output_type": "stream",
          "name": "stderr",
          "text": [
            "/usr/local/lib/python3.7/dist-packages/sklearn/base.py:446: UserWarning: X does not have valid feature names, but PCA was fitted with feature names\n",
            "  \"X does not have valid feature names, but\"\n"
          ]
        }
      ]
    },
    {
      "cell_type": "code",
      "metadata": {
        "colab": {
          "base_uri": "https://localhost:8080/",
          "height": 363
        },
        "id": "xbDlj2MHkzd9",
        "outputId": "96af9530-f522-432c-c5ec-9f8987af10a4"
      },
      "source": [
        "pca_dataframe = pd.DataFrame(pca_data, columns=[\"PCA 1\", \"PCA 2\"])\n",
        "pca_dataframe[\"Cluster\"] = cluster_pred\n",
        "pca_dataframe.sample(10)"
      ],
      "execution_count": 34,
      "outputs": [
        {
          "output_type": "execute_result",
          "data": {
            "text/html": [
              "<div>\n",
              "<style scoped>\n",
              "    .dataframe tbody tr th:only-of-type {\n",
              "        vertical-align: middle;\n",
              "    }\n",
              "\n",
              "    .dataframe tbody tr th {\n",
              "        vertical-align: top;\n",
              "    }\n",
              "\n",
              "    .dataframe thead th {\n",
              "        text-align: right;\n",
              "    }\n",
              "</style>\n",
              "<table border=\"1\" class=\"dataframe\">\n",
              "  <thead>\n",
              "    <tr style=\"text-align: right;\">\n",
              "      <th></th>\n",
              "      <th>PCA 1</th>\n",
              "      <th>PCA 2</th>\n",
              "      <th>Cluster</th>\n",
              "    </tr>\n",
              "  </thead>\n",
              "  <tbody>\n",
              "    <tr>\n",
              "      <th>781</th>\n",
              "      <td>-0.457075</td>\n",
              "      <td>1.071772</td>\n",
              "      <td>0</td>\n",
              "    </tr>\n",
              "    <tr>\n",
              "      <th>46</th>\n",
              "      <td>3.427477</td>\n",
              "      <td>1.239284</td>\n",
              "      <td>1</td>\n",
              "    </tr>\n",
              "    <tr>\n",
              "      <th>398</th>\n",
              "      <td>-0.470390</td>\n",
              "      <td>-1.078309</td>\n",
              "      <td>0</td>\n",
              "    </tr>\n",
              "    <tr>\n",
              "      <th>680</th>\n",
              "      <td>-0.435403</td>\n",
              "      <td>-1.487801</td>\n",
              "      <td>0</td>\n",
              "    </tr>\n",
              "    <tr>\n",
              "      <th>214</th>\n",
              "      <td>-5.518413</td>\n",
              "      <td>1.803359</td>\n",
              "      <td>2</td>\n",
              "    </tr>\n",
              "    <tr>\n",
              "      <th>63</th>\n",
              "      <td>0.531661</td>\n",
              "      <td>0.789753</td>\n",
              "      <td>0</td>\n",
              "    </tr>\n",
              "    <tr>\n",
              "      <th>40</th>\n",
              "      <td>7.519368</td>\n",
              "      <td>0.192408</td>\n",
              "      <td>1</td>\n",
              "    </tr>\n",
              "    <tr>\n",
              "      <th>199</th>\n",
              "      <td>-5.518413</td>\n",
              "      <td>1.803359</td>\n",
              "      <td>2</td>\n",
              "    </tr>\n",
              "    <tr>\n",
              "      <th>752</th>\n",
              "      <td>-0.489310</td>\n",
              "      <td>-0.200269</td>\n",
              "      <td>0</td>\n",
              "    </tr>\n",
              "    <tr>\n",
              "      <th>195</th>\n",
              "      <td>-5.518413</td>\n",
              "      <td>1.803359</td>\n",
              "      <td>2</td>\n",
              "    </tr>\n",
              "  </tbody>\n",
              "</table>\n",
              "</div>"
            ],
            "text/plain": [
              "        PCA 1     PCA 2  Cluster\n",
              "781 -0.457075  1.071772        0\n",
              "46   3.427477  1.239284        1\n",
              "398 -0.470390 -1.078309        0\n",
              "680 -0.435403 -1.487801        0\n",
              "214 -5.518413  1.803359        2\n",
              "63   0.531661  0.789753        0\n",
              "40   7.519368  0.192408        1\n",
              "199 -5.518413  1.803359        2\n",
              "752 -0.489310 -0.200269        0\n",
              "195 -5.518413  1.803359        2"
            ]
          },
          "metadata": {},
          "execution_count": 34
        }
      ]
    },
    {
      "cell_type": "code",
      "metadata": {
        "colab": {
          "base_uri": "https://localhost:8080/",
          "height": 565
        },
        "id": "AJgeNCr8kzX5",
        "outputId": "03122b37-fc47-4448-ae63-337614ae0fb6"
      },
      "source": [
        "plt.rcParams[\"figure.dpi\"] = 80\n",
        "sns.scatterplot(x=\"PCA 1\", y=\"PCA 2\", hue=\"Cluster\", data=pca_dataframe, s=100)\n",
        "plt.scatter(x=centroids_pca[:, 0], y=centroids_pca[:, 1], marker=\"+\", s=500, linewidths=3, lw=4, color=\"blue\", zorder=10)\n",
        "plt.title(\"Visualizing Clusters\")\n",
        "plt.show()"
      ],
      "execution_count": 35,
      "outputs": [
        {
          "output_type": "display_data",
          "data": {
            "image/png": "[encoded data removed]",
            "text/plain": [
              "<Figure size 960x640 with 1 Axes>"
            ]
          },
          "metadata": {
            "needs_background": "light"
          }
        }
      ]
    },
    {
      "cell_type": "markdown",
      "metadata": {
        "id": "hl2nEAWjIgIO"
      },
      "source": [
        "### Separar em treino e teste para classificação"
      ]
    },
    {
      "cell_type": "markdown",
      "metadata": {
        "id": "IfL5m_nRHOwQ"
      },
      "source": [
        "Separamos os dados importados em treino e teste a proporção de 80/20 e garantindo que o y esteja homogeneo entre as 3 classificações possíveis,"
      ]
    },
    {
      "cell_type": "code",
      "metadata": {
        "id": "XJTnvHbzkzPp",
        "colab": {
          "base_uri": "https://localhost:8080/",
          "height": 206
        },
        "outputId": "ed8be879-36b5-4abe-8812-55f1f75f201a"
      },
      "source": [
        "df.head()"
      ],
      "execution_count": 69,
      "outputs": [
        {
          "output_type": "execute_result",
          "data": {
            "text/html": [
              "<div>\n",
              "<style scoped>\n",
              "    .dataframe tbody tr th:only-of-type {\n",
              "        vertical-align: middle;\n",
              "    }\n",
              "\n",
              "    .dataframe tbody tr th {\n",
              "        vertical-align: top;\n",
              "    }\n",
              "\n",
              "    .dataframe thead th {\n",
              "        text-align: right;\n",
              "    }\n",
              "</style>\n",
              "<table border=\"1\" class=\"dataframe\">\n",
              "  <thead>\n",
              "    <tr style=\"text-align: right;\">\n",
              "      <th></th>\n",
              "      <th>IDArquetipo</th>\n",
              "      <th>Cerebro</th>\n",
              "      <th>Coracao</th>\n",
              "      <th>Aberto</th>\n",
              "      <th>Fechado</th>\n",
              "      <th>Projecoes</th>\n",
              "      <th>Fatos</th>\n",
              "      <th>Geral</th>\n",
              "      <th>Detalhes</th>\n",
              "      <th>Status</th>\n",
              "    </tr>\n",
              "  </thead>\n",
              "  <tbody>\n",
              "    <tr>\n",
              "      <th>0</th>\n",
              "      <td>1</td>\n",
              "      <td>1</td>\n",
              "      <td>0</td>\n",
              "      <td>1</td>\n",
              "      <td>0</td>\n",
              "      <td>0</td>\n",
              "      <td>1</td>\n",
              "      <td>0</td>\n",
              "      <td>1</td>\n",
              "      <td>1</td>\n",
              "    </tr>\n",
              "    <tr>\n",
              "      <th>1</th>\n",
              "      <td>1</td>\n",
              "      <td>1</td>\n",
              "      <td>0</td>\n",
              "      <td>1</td>\n",
              "      <td>0</td>\n",
              "      <td>0</td>\n",
              "      <td>1</td>\n",
              "      <td>0</td>\n",
              "      <td>1</td>\n",
              "      <td>1</td>\n",
              "    </tr>\n",
              "    <tr>\n",
              "      <th>2</th>\n",
              "      <td>1</td>\n",
              "      <td>1</td>\n",
              "      <td>0</td>\n",
              "      <td>1</td>\n",
              "      <td>0</td>\n",
              "      <td>0</td>\n",
              "      <td>1</td>\n",
              "      <td>0</td>\n",
              "      <td>1</td>\n",
              "      <td>1</td>\n",
              "    </tr>\n",
              "    <tr>\n",
              "      <th>3</th>\n",
              "      <td>1</td>\n",
              "      <td>1</td>\n",
              "      <td>0</td>\n",
              "      <td>1</td>\n",
              "      <td>0</td>\n",
              "      <td>0</td>\n",
              "      <td>1</td>\n",
              "      <td>0</td>\n",
              "      <td>1</td>\n",
              "      <td>1</td>\n",
              "    </tr>\n",
              "    <tr>\n",
              "      <th>4</th>\n",
              "      <td>1</td>\n",
              "      <td>1</td>\n",
              "      <td>0</td>\n",
              "      <td>1</td>\n",
              "      <td>0</td>\n",
              "      <td>0</td>\n",
              "      <td>1</td>\n",
              "      <td>0</td>\n",
              "      <td>1</td>\n",
              "      <td>1</td>\n",
              "    </tr>\n",
              "  </tbody>\n",
              "</table>\n",
              "</div>"
            ],
            "text/plain": [
              "   IDArquetipo  Cerebro  Coracao  Aberto  ...  Fatos  Geral  Detalhes  Status\n",
              "0            1        1        0       1  ...      1      0         1       1\n",
              "1            1        1        0       1  ...      1      0         1       1\n",
              "2            1        1        0       1  ...      1      0         1       1\n",
              "3            1        1        0       1  ...      1      0         1       1\n",
              "4            1        1        0       1  ...      1      0         1       1\n",
              "\n",
              "[5 rows x 10 columns]"
            ]
          },
          "metadata": {},
          "execution_count": 69
        }
      ]
    },
    {
      "cell_type": "code",
      "metadata": {
        "colab": {
          "base_uri": "https://localhost:8080/"
        },
        "id": "69l8z93bODS4",
        "outputId": "bbe85ae4-3140-4144-9dac-8d095bfb8933"
      },
      "source": [
        "df.shape"
      ],
      "execution_count": 70,
      "outputs": [
        {
          "output_type": "execute_result",
          "data": {
            "text/plain": [
              "(798, 10)"
            ]
          },
          "metadata": {},
          "execution_count": 70
        }
      ]
    },
    {
      "cell_type": "code",
      "metadata": {
        "colab": {
          "base_uri": "https://localhost:8080/",
          "height": 548
        },
        "id": "D6HqwhFoPChr",
        "outputId": "32388888-dbb3-4c9f-f2a8-deb58a4de949"
      },
      "source": [
        "sns.countplot(x=df['Status']);"
      ],
      "execution_count": 71,
      "outputs": [
        {
          "output_type": "display_data",
          "data": {
            "image/png": "[encoded data removed]",
            "text/plain": [
              "<Figure size 960x640 with 1 Axes>"
            ]
          },
          "metadata": {
            "needs_background": "light"
          }
        }
      ]
    },
    {
      "cell_type": "code",
      "metadata": {
        "id": "ZY2qIQfWPNhh"
      },
      "source": [
        "X = df.iloc[:,0:9]"
      ],
      "execution_count": 72,
      "outputs": []
    },
    {
      "cell_type": "code",
      "metadata": {
        "colab": {
          "base_uri": "https://localhost:8080/",
          "height": 206
        },
        "id": "ZYaAnkPBPNWg",
        "outputId": "8feacc24-5397-4dce-bec6-3bcc2a8218e3"
      },
      "source": [
        "X.head()"
      ],
      "execution_count": 73,
      "outputs": [
        {
          "output_type": "execute_result",
          "data": {
            "text/html": [
              "<div>\n",
              "<style scoped>\n",
              "    .dataframe tbody tr th:only-of-type {\n",
              "        vertical-align: middle;\n",
              "    }\n",
              "\n",
              "    .dataframe tbody tr th {\n",
              "        vertical-align: top;\n",
              "    }\n",
              "\n",
              "    .dataframe thead th {\n",
              "        text-align: right;\n",
              "    }\n",
              "</style>\n",
              "<table border=\"1\" class=\"dataframe\">\n",
              "  <thead>\n",
              "    <tr style=\"text-align: right;\">\n",
              "      <th></th>\n",
              "      <th>IDArquetipo</th>\n",
              "      <th>Cerebro</th>\n",
              "      <th>Coracao</th>\n",
              "      <th>Aberto</th>\n",
              "      <th>Fechado</th>\n",
              "      <th>Projecoes</th>\n",
              "      <th>Fatos</th>\n",
              "      <th>Geral</th>\n",
              "      <th>Detalhes</th>\n",
              "    </tr>\n",
              "  </thead>\n",
              "  <tbody>\n",
              "    <tr>\n",
              "      <th>0</th>\n",
              "      <td>1</td>\n",
              "      <td>1</td>\n",
              "      <td>0</td>\n",
              "      <td>1</td>\n",
              "      <td>0</td>\n",
              "      <td>0</td>\n",
              "      <td>1</td>\n",
              "      <td>0</td>\n",
              "      <td>1</td>\n",
              "    </tr>\n",
              "    <tr>\n",
              "      <th>1</th>\n",
              "      <td>1</td>\n",
              "      <td>1</td>\n",
              "      <td>0</td>\n",
              "      <td>1</td>\n",
              "      <td>0</td>\n",
              "      <td>0</td>\n",
              "      <td>1</td>\n",
              "      <td>0</td>\n",
              "      <td>1</td>\n",
              "    </tr>\n",
              "    <tr>\n",
              "      <th>2</th>\n",
              "      <td>1</td>\n",
              "      <td>1</td>\n",
              "      <td>0</td>\n",
              "      <td>1</td>\n",
              "      <td>0</td>\n",
              "      <td>0</td>\n",
              "      <td>1</td>\n",
              "      <td>0</td>\n",
              "      <td>1</td>\n",
              "    </tr>\n",
              "    <tr>\n",
              "      <th>3</th>\n",
              "      <td>1</td>\n",
              "      <td>1</td>\n",
              "      <td>0</td>\n",
              "      <td>1</td>\n",
              "      <td>0</td>\n",
              "      <td>0</td>\n",
              "      <td>1</td>\n",
              "      <td>0</td>\n",
              "      <td>1</td>\n",
              "    </tr>\n",
              "    <tr>\n",
              "      <th>4</th>\n",
              "      <td>1</td>\n",
              "      <td>1</td>\n",
              "      <td>0</td>\n",
              "      <td>1</td>\n",
              "      <td>0</td>\n",
              "      <td>0</td>\n",
              "      <td>1</td>\n",
              "      <td>0</td>\n",
              "      <td>1</td>\n",
              "    </tr>\n",
              "  </tbody>\n",
              "</table>\n",
              "</div>"
            ],
            "text/plain": [
              "   IDArquetipo  Cerebro  Coracao  Aberto  ...  Projecoes  Fatos  Geral  Detalhes\n",
              "0            1        1        0       1  ...          0      1      0         1\n",
              "1            1        1        0       1  ...          0      1      0         1\n",
              "2            1        1        0       1  ...          0      1      0         1\n",
              "3            1        1        0       1  ...          0      1      0         1\n",
              "4            1        1        0       1  ...          0      1      0         1\n",
              "\n",
              "[5 rows x 9 columns]"
            ]
          },
          "metadata": {},
          "execution_count": 73
        }
      ]
    },
    {
      "cell_type": "code",
      "metadata": {
        "id": "ZrG0hlOsPWoX"
      },
      "source": [
        "y = df.iloc[:,9]"
      ],
      "execution_count": 74,
      "outputs": []
    },
    {
      "cell_type": "code",
      "metadata": {
        "colab": {
          "base_uri": "https://localhost:8080/"
        },
        "id": "yLccJt_dPWi_",
        "outputId": "bbb0db97-4170-4450-b6cf-4bb8258de46b"
      },
      "source": [
        "y.head()"
      ],
      "execution_count": 75,
      "outputs": [
        {
          "output_type": "execute_result",
          "data": {
            "text/plain": [
              "0    1\n",
              "1    1\n",
              "2    1\n",
              "3    1\n",
              "4    1\n",
              "Name: Status, dtype: int64"
            ]
          },
          "metadata": {},
          "execution_count": 75
        }
      ]
    },
    {
      "cell_type": "code",
      "metadata": {
        "id": "P6FKNJ78pTWK",
        "colab": {
          "base_uri": "https://localhost:8080/"
        },
        "outputId": "82b308a1-6c1b-4b1e-c25a-e31143717322"
      },
      "source": [
        "X_treino, X_teste, y_treino, y_teste = train_test_split(X, y, test_size=0.2, stratify=y)\n",
        "\n",
        "print(len(X_treino))\n",
        "print(len(X_teste))\n",
        "print(len(y_treino))\n",
        "print(len(y_teste))"
      ],
      "execution_count": 76,
      "outputs": [
        {
          "output_type": "stream",
          "name": "stdout",
          "text": [
            "638\n",
            "160\n",
            "638\n",
            "160\n"
          ]
        }
      ]
    },
    {
      "cell_type": "code",
      "metadata": {
        "colab": {
          "base_uri": "https://localhost:8080/"
        },
        "id": "xtwNja4OXn6l",
        "outputId": "9a6e8c0b-b144-4047-e527-c8dd6b9b0bdf"
      },
      "source": [
        "np.unique(y, return_counts=True)"
      ],
      "execution_count": 77,
      "outputs": [
        {
          "output_type": "execute_result",
          "data": {
            "text/plain": [
              "(array([1, 2, 3]), array([267, 267, 264]))"
            ]
          },
          "metadata": {},
          "execution_count": 77
        }
      ]
    },
    {
      "cell_type": "code",
      "metadata": {
        "colab": {
          "base_uri": "https://localhost:8080/"
        },
        "id": "uJgcW0S7Xnwv",
        "outputId": "d9ac2c21-ef6d-4098-e1bc-12c332157825"
      },
      "source": [
        "np.unique(y_treino, return_counts=True)"
      ],
      "execution_count": 78,
      "outputs": [
        {
          "output_type": "execute_result",
          "data": {
            "text/plain": [
              "(array([1, 2, 3]), array([214, 213, 211]))"
            ]
          },
          "metadata": {},
          "execution_count": 78
        }
      ]
    },
    {
      "cell_type": "code",
      "metadata": {
        "colab": {
          "base_uri": "https://localhost:8080/"
        },
        "id": "XKtyYkUGXzgN",
        "outputId": "958a9f36-5abe-42ec-9401-8e79c473c4e5"
      },
      "source": [
        "np.unique(y_teste, return_counts=True)"
      ],
      "execution_count": 79,
      "outputs": [
        {
          "output_type": "execute_result",
          "data": {
            "text/plain": [
              "(array([1, 2, 3]), array([53, 54, 53]))"
            ]
          },
          "metadata": {},
          "execution_count": 79
        }
      ]
    },
    {
      "cell_type": "markdown",
      "metadata": {
        "id": "On9vUlfeM4v6"
      },
      "source": [
        "### Teste e acurácia com o Naive Bayes"
      ]
    },
    {
      "cell_type": "code",
      "metadata": {
        "id": "9bI1EX9uPJFA"
      },
      "source": [
        "nb = GaussianNB()"
      ],
      "execution_count": 47,
      "outputs": []
    },
    {
      "cell_type": "code",
      "metadata": {
        "colab": {
          "base_uri": "https://localhost:8080/"
        },
        "id": "TwTjeRGhM33o",
        "outputId": "9e014d29-417a-4f8c-f371-7b928015dbd3"
      },
      "source": [
        "nb.fit(X_treino, y_treino)"
      ],
      "execution_count": 48,
      "outputs": [
        {
          "output_type": "execute_result",
          "data": {
            "text/plain": [
              "GaussianNB()"
            ]
          },
          "metadata": {},
          "execution_count": 48
        }
      ]
    },
    {
      "cell_type": "code",
      "metadata": {
        "colab": {
          "base_uri": "https://localhost:8080/"
        },
        "id": "BEq2jcpsM319",
        "outputId": "d7c4eb4c-17ae-4336-d431-930d925b77ba"
      },
      "source": [
        "nb.score(X_teste, y_teste)"
      ],
      "execution_count": 49,
      "outputs": [
        {
          "output_type": "execute_result",
          "data": {
            "text/plain": [
              "0.46875"
            ]
          },
          "metadata": {},
          "execution_count": 49
        }
      ]
    },
    {
      "cell_type": "code",
      "metadata": {
        "id": "UhNAkgopRzW2"
      },
      "source": [
        "nbpredGaus = nb.predict(X_teste)"
      ],
      "execution_count": 50,
      "outputs": []
    },
    {
      "cell_type": "code",
      "metadata": {
        "colab": {
          "base_uri": "https://localhost:8080/"
        },
        "id": "apKqMOJJT4Ol",
        "outputId": "76ff6d97-b8dd-4245-b34c-598c0a5324ef"
      },
      "source": [
        "accuracy_score(y_teste, nbpredGaus)"
      ],
      "execution_count": 51,
      "outputs": [
        {
          "output_type": "execute_result",
          "data": {
            "text/plain": [
              "0.46875"
            ]
          },
          "metadata": {},
          "execution_count": 51
        }
      ]
    },
    {
      "cell_type": "code",
      "metadata": {
        "colab": {
          "base_uri": "https://localhost:8080/"
        },
        "id": "hy5VCOgiRCsm",
        "outputId": "fa9fa44f-adc8-410a-d59d-52e0625d1b19"
      },
      "source": [
        "f1_score(y_teste, nbpredGaus, average='micro')"
      ],
      "execution_count": 52,
      "outputs": [
        {
          "output_type": "execute_result",
          "data": {
            "text/plain": [
              "0.46875"
            ]
          },
          "metadata": {},
          "execution_count": 52
        }
      ]
    },
    {
      "cell_type": "code",
      "metadata": {
        "colab": {
          "base_uri": "https://localhost:8080/"
        },
        "id": "zXrcuBFchTB1",
        "outputId": "7407a436-d390-4629-dec7-41dd56006f1d"
      },
      "source": [
        "recall_score(y_teste, nbpredGaus, average='micro')"
      ],
      "execution_count": 53,
      "outputs": [
        {
          "output_type": "execute_result",
          "data": {
            "text/plain": [
              "0.46875"
            ]
          },
          "metadata": {},
          "execution_count": 53
        }
      ]
    },
    {
      "cell_type": "code",
      "metadata": {
        "colab": {
          "base_uri": "https://localhost:8080/"
        },
        "id": "EwQAv8PyhS5_",
        "outputId": "d03d459f-8cf9-4a74-bb80-72a3058a5ab3"
      },
      "source": [
        "precision_score(y_teste, nbpredGaus, average='micro')"
      ],
      "execution_count": 54,
      "outputs": [
        {
          "output_type": "execute_result",
          "data": {
            "text/plain": [
              "0.46875"
            ]
          },
          "metadata": {},
          "execution_count": 54
        }
      ]
    },
    {
      "cell_type": "code",
      "metadata": {
        "colab": {
          "base_uri": "https://localhost:8080/"
        },
        "id": "AOYlABpoRCZ_",
        "outputId": "1ac70b88-7f6d-4670-90cd-baaf16465787"
      },
      "source": [
        "cm = confusion_matrix(y_teste,nbpredGaus)\n",
        "cm"
      ],
      "execution_count": 55,
      "outputs": [
        {
          "output_type": "execute_result",
          "data": {
            "text/plain": [
              "array([[28, 22,  4],\n",
              "       [17, 27,  9],\n",
              "       [11, 22, 20]])"
            ]
          },
          "metadata": {},
          "execution_count": 55
        }
      ]
    },
    {
      "cell_type": "code",
      "metadata": {
        "colab": {
          "base_uri": "https://localhost:8080/",
          "height": 533
        },
        "id": "gI8M2JD9cU1I",
        "outputId": "0324a375-4f80-4504-bc36-dae70914a9b5"
      },
      "source": [
        "sns.heatmap(cm, annot=True);"
      ],
      "execution_count": 56,
      "outputs": [
        {
          "output_type": "display_data",
          "data": {
            "image/png": "[encoded data removed]",
            "text/plain": [
              "<Figure size 960x640 with 2 Axes>"
            ]
          },
          "metadata": {
            "needs_background": "light"
          }
        }
      ]
    },
    {
      "cell_type": "markdown",
      "metadata": {
        "id": "fzcK8X6DcWT1"
      },
      "source": [
        "Multinomial"
      ]
    },
    {
      "cell_type": "code",
      "metadata": {
        "id": "eHjIRUdMM3zq"
      },
      "source": [
        "nb = MultinomialNB()"
      ],
      "execution_count": 57,
      "outputs": []
    },
    {
      "cell_type": "code",
      "metadata": {
        "colab": {
          "base_uri": "https://localhost:8080/"
        },
        "id": "-AgyrAIqM3xe",
        "outputId": "56ae5abe-6972-4b09-9865-ef687e7ef947"
      },
      "source": [
        "nb.fit(X_treino, y_treino)"
      ],
      "execution_count": 58,
      "outputs": [
        {
          "output_type": "execute_result",
          "data": {
            "text/plain": [
              "MultinomialNB()"
            ]
          },
          "metadata": {},
          "execution_count": 58
        }
      ]
    },
    {
      "cell_type": "code",
      "metadata": {
        "colab": {
          "base_uri": "https://localhost:8080/"
        },
        "id": "v41KjaxEM3vR",
        "outputId": "ac0b7580-be39-483d-c921-22b2d6d36b51"
      },
      "source": [
        "nb.score(X_teste, y_teste)"
      ],
      "execution_count": 59,
      "outputs": [
        {
          "output_type": "execute_result",
          "data": {
            "text/plain": [
              "0.4125"
            ]
          },
          "metadata": {},
          "execution_count": 59
        }
      ]
    },
    {
      "cell_type": "code",
      "metadata": {
        "id": "vSDhCIHUSBUL"
      },
      "source": [
        "nbpredMult = nb.predict(X_teste)"
      ],
      "execution_count": 60,
      "outputs": []
    },
    {
      "cell_type": "code",
      "metadata": {
        "colab": {
          "base_uri": "https://localhost:8080/"
        },
        "id": "wDUXM5g6TwU3",
        "outputId": "6be6c88d-6ca6-4519-99d1-9b97a1dd3cca"
      },
      "source": [
        "accuracy_score(y_teste, nbpredMult)"
      ],
      "execution_count": 61,
      "outputs": [
        {
          "output_type": "execute_result",
          "data": {
            "text/plain": [
              "0.4125"
            ]
          },
          "metadata": {},
          "execution_count": 61
        }
      ]
    },
    {
      "cell_type": "code",
      "metadata": {
        "colab": {
          "base_uri": "https://localhost:8080/"
        },
        "id": "aSwyQVDwiGm-",
        "outputId": "965c5420-ed85-4ec9-b3ae-e83cf57ea102"
      },
      "source": [
        "f1_score(y_teste, nbpredMult, average='micro')"
      ],
      "execution_count": 62,
      "outputs": [
        {
          "output_type": "execute_result",
          "data": {
            "text/plain": [
              "0.4125"
            ]
          },
          "metadata": {},
          "execution_count": 62
        }
      ]
    },
    {
      "cell_type": "code",
      "metadata": {
        "colab": {
          "base_uri": "https://localhost:8080/"
        },
        "id": "O55swKyKiGY_",
        "outputId": "1d182992-e442-4afc-b849-bf50d361b8f1"
      },
      "source": [
        "recall_score(y_teste, nbpredMult, average='micro')"
      ],
      "execution_count": 63,
      "outputs": [
        {
          "output_type": "execute_result",
          "data": {
            "text/plain": [
              "0.4125"
            ]
          },
          "metadata": {},
          "execution_count": 63
        }
      ]
    },
    {
      "cell_type": "code",
      "metadata": {
        "colab": {
          "base_uri": "https://localhost:8080/"
        },
        "id": "9CpKsu-IiGQM",
        "outputId": "b446bc45-21ae-4458-afd3-55065fb81bb8"
      },
      "source": [
        "precision_score(y_teste, nbpredMult, average='micro')"
      ],
      "execution_count": 64,
      "outputs": [
        {
          "output_type": "execute_result",
          "data": {
            "text/plain": [
              "0.4125"
            ]
          },
          "metadata": {},
          "execution_count": 64
        }
      ]
    },
    {
      "cell_type": "code",
      "metadata": {
        "colab": {
          "base_uri": "https://localhost:8080/"
        },
        "id": "lszOOLe2iGIR",
        "outputId": "fab7fd3a-5ab0-4853-8461-93a4a47d7754"
      },
      "source": [
        "cm = confusion_matrix(y_teste,nbpredMult)\n",
        "cm"
      ],
      "execution_count": 65,
      "outputs": [
        {
          "output_type": "execute_result",
          "data": {
            "text/plain": [
              "array([[23, 19, 12],\n",
              "       [16, 26, 11],\n",
              "       [ 9, 27, 17]])"
            ]
          },
          "metadata": {},
          "execution_count": 65
        }
      ]
    },
    {
      "cell_type": "code",
      "metadata": {
        "colab": {
          "base_uri": "https://localhost:8080/",
          "height": 533
        },
        "id": "roLlOw2miFnc",
        "outputId": "5687b71f-79d0-47de-f28f-32807e766366"
      },
      "source": [
        "sns.heatmap(cm, annot=True);"
      ],
      "execution_count": 66,
      "outputs": [
        {
          "output_type": "display_data",
          "data": {
            "image/png": "[encoded data removed]",
            "text/plain": [
              "<Figure size 960x640 with 2 Axes>"
            ]
          },
          "metadata": {
            "needs_background": "light"
          }
        }
      ]
    },
    {
      "cell_type": "markdown",
      "metadata": {
        "id": "xYZWG7_PQTcd"
      },
      "source": [
        "### Teste e acurácia com o Random Forest Classifier"
      ]
    },
    {
      "cell_type": "code",
      "metadata": {
        "colab": {
          "base_uri": "https://localhost:8080/"
        },
        "id": "MbEkPxVRM3tK",
        "outputId": "79eeb2fb-c953-4eb8-e07b-6196b0cb1458"
      },
      "source": [
        "rf = RandomForestClassifier(bootstrap=True,\n",
        "                            class_weight=None, \n",
        "                            criterion='gini',\n",
        "                            max_depth=None, \n",
        "                            max_features='auto',\n",
        "                            max_leaf_nodes=None, \n",
        "                            min_impurity_decrease=0.0,\n",
        "                            min_samples_leaf=1,\n",
        "                            min_samples_split=2,\n",
        "                            min_weight_fraction_leaf=0.0, \n",
        "                            n_estimators=10, \n",
        "                            n_jobs=1, \n",
        "                            oob_score=False, \n",
        "                            random_state=42, \n",
        "                            verbose=0, \n",
        "                            warm_start=False\n",
        "                            )\n",
        "                            \n",
        "rf.fit(X_treino, y_treino)"
      ],
      "execution_count": 104,
      "outputs": [
        {
          "output_type": "execute_result",
          "data": {
            "text/plain": [
              "RandomForestClassifier(n_estimators=10, n_jobs=1, random_state=42)"
            ]
          },
          "metadata": {},
          "execution_count": 104
        }
      ]
    },
    {
      "cell_type": "code",
      "metadata": {
        "colab": {
          "base_uri": "https://localhost:8080/"
        },
        "id": "ctX6nh2IjrQ9",
        "outputId": "c4d4f224-b740-4f82-f938-2d4d5a8dae4c"
      },
      "source": [
        "rf.score(X_teste, y_teste)"
      ],
      "execution_count": 105,
      "outputs": [
        {
          "output_type": "execute_result",
          "data": {
            "text/plain": [
              "0.76875"
            ]
          },
          "metadata": {},
          "execution_count": 105
        }
      ]
    },
    {
      "cell_type": "code",
      "metadata": {
        "id": "_lc1HCc8QT6T"
      },
      "source": [
        "rfpred = rf.predict(X_teste)"
      ],
      "execution_count": 106,
      "outputs": []
    },
    {
      "cell_type": "code",
      "metadata": {
        "colab": {
          "base_uri": "https://localhost:8080/"
        },
        "id": "DntI5huKjR4Y",
        "outputId": "d1ff05ee-4826-4147-98c2-a75479f07299"
      },
      "source": [
        "accuracy_score(y_teste, rfpred)"
      ],
      "execution_count": 107,
      "outputs": [
        {
          "output_type": "execute_result",
          "data": {
            "text/plain": [
              "0.76875"
            ]
          },
          "metadata": {},
          "execution_count": 107
        }
      ]
    },
    {
      "cell_type": "code",
      "metadata": {
        "colab": {
          "base_uri": "https://localhost:8080/"
        },
        "id": "165aBIgtjRv_",
        "outputId": "cdef342d-31da-4bb0-bcc9-1dce53368052"
      },
      "source": [
        "f1_score(y_teste, rfpred, average='micro')"
      ],
      "execution_count": 108,
      "outputs": [
        {
          "output_type": "execute_result",
          "data": {
            "text/plain": [
              "0.76875"
            ]
          },
          "metadata": {},
          "execution_count": 108
        }
      ]
    },
    {
      "cell_type": "code",
      "metadata": {
        "colab": {
          "base_uri": "https://localhost:8080/"
        },
        "id": "ut6DH0TYjRrM",
        "outputId": "f638453f-1cab-4c61-8868-4dc1e540520f"
      },
      "source": [
        "recall_score(y_teste, rfpred, average='micro')"
      ],
      "execution_count": 109,
      "outputs": [
        {
          "output_type": "execute_result",
          "data": {
            "text/plain": [
              "0.76875"
            ]
          },
          "metadata": {},
          "execution_count": 109
        }
      ]
    },
    {
      "cell_type": "code",
      "metadata": {
        "colab": {
          "base_uri": "https://localhost:8080/"
        },
        "id": "0tI1zUZ0jRl9",
        "outputId": "176b0d2d-666b-48fd-8526-976f5cfe733d"
      },
      "source": [
        "precision_score(y_teste, rfpred, average='micro')"
      ],
      "execution_count": 110,
      "outputs": [
        {
          "output_type": "execute_result",
          "data": {
            "text/plain": [
              "0.76875"
            ]
          },
          "metadata": {},
          "execution_count": 110
        }
      ]
    },
    {
      "cell_type": "code",
      "metadata": {
        "colab": {
          "base_uri": "https://localhost:8080/"
        },
        "id": "n6Wt5tiBjRZ3",
        "outputId": "261334de-8b3d-4d78-a4a6-a3c4228a21c1"
      },
      "source": [
        "cm = confusion_matrix(y_teste, rfpred)\n",
        "cm"
      ],
      "execution_count": 111,
      "outputs": [
        {
          "output_type": "execute_result",
          "data": {
            "text/plain": [
              "array([[44,  9,  0],\n",
              "       [13, 34,  7],\n",
              "       [ 2,  6, 45]])"
            ]
          },
          "metadata": {},
          "execution_count": 111
        }
      ]
    },
    {
      "cell_type": "code",
      "metadata": {
        "colab": {
          "base_uri": "https://localhost:8080/",
          "height": 537
        },
        "id": "m_FWCDr8jRQD",
        "outputId": "7003995b-c69c-45ec-f846-ae4af15d0984"
      },
      "source": [
        "sns.heatmap(cm, annot=True);"
      ],
      "execution_count": 112,
      "outputs": [
        {
          "output_type": "display_data",
          "data": {
            "image/png": "[encoded data removed]",
            "text/plain": [
              "<Figure size 960x640 with 2 Axes>"
            ]
          },
          "metadata": {
            "needs_background": "light"
          }
        }
      ]
    },
    {
      "cell_type": "markdown",
      "metadata": {
        "id": "wlpKM8WgSmIG"
      },
      "source": [
        "### Teste e acurácia com o SVC"
      ]
    },
    {
      "cell_type": "code",
      "metadata": {
        "colab": {
          "base_uri": "https://localhost:8080/"
        },
        "id": "7qCAiXVLSnJ1",
        "outputId": "1a4463b5-b97e-4b6d-b41e-8ebe27c6dedd"
      },
      "source": [
        "param_grid = [\n",
        "    {'C': [1, 10, 100]}\n",
        "]\n",
        "svc = LinearSVC()\n",
        "svm = GridSearchCV(svc, param_grid).fit(X_treino, y_treino)"
      ],
      "execution_count": 82,
      "outputs": [
        {
          "output_type": "stream",
          "name": "stderr",
          "text": [
            "/usr/local/lib/python3.7/dist-packages/sklearn/svm/_base.py:1208: ConvergenceWarning: Liblinear failed to converge, increase the number of iterations.\n",
            "  ConvergenceWarning,\n",
            "/usr/local/lib/python3.7/dist-packages/sklearn/svm/_base.py:1208: ConvergenceWarning: Liblinear failed to converge, increase the number of iterations.\n",
            "  ConvergenceWarning,\n",
            "/usr/local/lib/python3.7/dist-packages/sklearn/svm/_base.py:1208: ConvergenceWarning: Liblinear failed to converge, increase the number of iterations.\n",
            "  ConvergenceWarning,\n",
            "/usr/local/lib/python3.7/dist-packages/sklearn/svm/_base.py:1208: ConvergenceWarning: Liblinear failed to converge, increase the number of iterations.\n",
            "  ConvergenceWarning,\n",
            "/usr/local/lib/python3.7/dist-packages/sklearn/svm/_base.py:1208: ConvergenceWarning: Liblinear failed to converge, increase the number of iterations.\n",
            "  ConvergenceWarning,\n",
            "/usr/local/lib/python3.7/dist-packages/sklearn/svm/_base.py:1208: ConvergenceWarning: Liblinear failed to converge, increase the number of iterations.\n",
            "  ConvergenceWarning,\n",
            "/usr/local/lib/python3.7/dist-packages/sklearn/svm/_base.py:1208: ConvergenceWarning: Liblinear failed to converge, increase the number of iterations.\n",
            "  ConvergenceWarning,\n",
            "/usr/local/lib/python3.7/dist-packages/sklearn/svm/_base.py:1208: ConvergenceWarning: Liblinear failed to converge, increase the number of iterations.\n",
            "  ConvergenceWarning,\n",
            "/usr/local/lib/python3.7/dist-packages/sklearn/svm/_base.py:1208: ConvergenceWarning: Liblinear failed to converge, increase the number of iterations.\n",
            "  ConvergenceWarning,\n",
            "/usr/local/lib/python3.7/dist-packages/sklearn/svm/_base.py:1208: ConvergenceWarning: Liblinear failed to converge, increase the number of iterations.\n",
            "  ConvergenceWarning,\n",
            "/usr/local/lib/python3.7/dist-packages/sklearn/svm/_base.py:1208: ConvergenceWarning: Liblinear failed to converge, increase the number of iterations.\n",
            "  ConvergenceWarning,\n",
            "/usr/local/lib/python3.7/dist-packages/sklearn/svm/_base.py:1208: ConvergenceWarning: Liblinear failed to converge, increase the number of iterations.\n",
            "  ConvergenceWarning,\n",
            "/usr/local/lib/python3.7/dist-packages/sklearn/svm/_base.py:1208: ConvergenceWarning: Liblinear failed to converge, increase the number of iterations.\n",
            "  ConvergenceWarning,\n",
            "/usr/local/lib/python3.7/dist-packages/sklearn/svm/_base.py:1208: ConvergenceWarning: Liblinear failed to converge, increase the number of iterations.\n",
            "  ConvergenceWarning,\n",
            "/usr/local/lib/python3.7/dist-packages/sklearn/svm/_base.py:1208: ConvergenceWarning: Liblinear failed to converge, increase the number of iterations.\n",
            "  ConvergenceWarning,\n",
            "/usr/local/lib/python3.7/dist-packages/sklearn/svm/_base.py:1208: ConvergenceWarning: Liblinear failed to converge, increase the number of iterations.\n",
            "  ConvergenceWarning,\n"
          ]
        }
      ]
    },
    {
      "cell_type": "code",
      "metadata": {
        "id": "ig1AGhOuSzBv"
      },
      "source": [
        "svcpred = svm.predict(X_teste)"
      ],
      "execution_count": 83,
      "outputs": []
    },
    {
      "cell_type": "code",
      "metadata": {
        "colab": {
          "base_uri": "https://localhost:8080/"
        },
        "id": "K77JX2aRTG4f",
        "outputId": "05d0907a-37ca-4a31-abea-44f66b8bd810"
      },
      "source": [
        "accuracy_score(y_teste, svcpred)"
      ],
      "execution_count": 84,
      "outputs": [
        {
          "output_type": "execute_result",
          "data": {
            "text/plain": [
              "0.3"
            ]
          },
          "metadata": {},
          "execution_count": 84
        }
      ]
    },
    {
      "cell_type": "code",
      "metadata": {
        "colab": {
          "base_uri": "https://localhost:8080/"
        },
        "id": "CJOdURu4iX8z",
        "outputId": "ea9d806a-fb31-4b35-dde1-3a4c2386b7eb"
      },
      "source": [
        "f1_score(y_teste, svcpred, average='micro')"
      ],
      "execution_count": 85,
      "outputs": [
        {
          "output_type": "execute_result",
          "data": {
            "text/plain": [
              "0.3"
            ]
          },
          "metadata": {},
          "execution_count": 85
        }
      ]
    },
    {
      "cell_type": "code",
      "metadata": {
        "colab": {
          "base_uri": "https://localhost:8080/"
        },
        "id": "7KWeiHA1iX2p",
        "outputId": "82dc8403-8242-4f60-bc8c-fa13939ba381"
      },
      "source": [
        "recall_score(y_teste, svcpred, average='micro')"
      ],
      "execution_count": 86,
      "outputs": [
        {
          "output_type": "execute_result",
          "data": {
            "text/plain": [
              "0.3"
            ]
          },
          "metadata": {},
          "execution_count": 86
        }
      ]
    },
    {
      "cell_type": "code",
      "metadata": {
        "colab": {
          "base_uri": "https://localhost:8080/"
        },
        "id": "Fgqx5eyJiXw_",
        "outputId": "fdf1ae90-b10d-4c89-f5be-7c01d056d1a5"
      },
      "source": [
        "precision_score(y_teste, svcpred, average='micro')"
      ],
      "execution_count": 87,
      "outputs": [
        {
          "output_type": "execute_result",
          "data": {
            "text/plain": [
              "0.3"
            ]
          },
          "metadata": {},
          "execution_count": 87
        }
      ]
    },
    {
      "cell_type": "code",
      "metadata": {
        "colab": {
          "base_uri": "https://localhost:8080/"
        },
        "id": "YRxDOu3iiXr3",
        "outputId": "b6b98e4e-9a86-4b1f-ac47-e1c1bbc26839"
      },
      "source": [
        "cm = confusion_matrix(y_teste, svcpred)\n",
        "cm"
      ],
      "execution_count": 88,
      "outputs": [
        {
          "output_type": "execute_result",
          "data": {
            "text/plain": [
              "array([[ 0, 12, 41],\n",
              "       [ 0, 30, 24],\n",
              "       [ 0, 35, 18]])"
            ]
          },
          "metadata": {},
          "execution_count": 88
        }
      ]
    },
    {
      "cell_type": "code",
      "metadata": {
        "colab": {
          "base_uri": "https://localhost:8080/",
          "height": 533
        },
        "id": "H30lw4d8iXnC",
        "outputId": "5b0d07d8-463c-48ad-851a-8378d4f5a679"
      },
      "source": [
        "sns.heatmap(cm, annot=True);"
      ],
      "execution_count": 89,
      "outputs": [
        {
          "output_type": "display_data",
          "data": {
            "image/png": "[encoded data removed]",
            "text/plain": [
              "<Figure size 960x640 with 2 Axes>"
            ]
          },
          "metadata": {
            "needs_background": "light"
          }
        }
      ]
    },
    {
      "cell_type": "markdown",
      "metadata": {
        "id": "WFTo80gqUHxC"
      },
      "source": [
        "### Teste e acurácia com o Gradiente descendente"
      ]
    },
    {
      "cell_type": "code",
      "metadata": {
        "id": "w_M2zxi4TYT0"
      },
      "source": [
        "modelo = SGDClassifier(loss='hinge', penalty='l2', alpha=1e-3, random_state=42, max_iter=5, tol=None)\n",
        "modelo.fit(X_treino, y_treino);"
      ],
      "execution_count": 90,
      "outputs": []
    },
    {
      "cell_type": "code",
      "metadata": {
        "id": "KUIqe8M1UQE8"
      },
      "source": [
        "SGDCprev = modelo.predict(X_teste)"
      ],
      "execution_count": 91,
      "outputs": []
    },
    {
      "cell_type": "code",
      "metadata": {
        "colab": {
          "base_uri": "https://localhost:8080/"
        },
        "id": "V6_qAtxvUP20",
        "outputId": "c4b782ce-c452-4067-e0ef-77474da49ac0"
      },
      "source": [
        "accuracy_score(y_teste, SGDCprev)"
      ],
      "execution_count": 92,
      "outputs": [
        {
          "output_type": "execute_result",
          "data": {
            "text/plain": [
              "0.325"
            ]
          },
          "metadata": {},
          "execution_count": 92
        }
      ]
    },
    {
      "cell_type": "code",
      "metadata": {
        "colab": {
          "base_uri": "https://localhost:8080/"
        },
        "id": "Zq3sSlXjixF5",
        "outputId": "99b5d659-b435-45a1-9c41-e38417aa6ac2"
      },
      "source": [
        "f1_score(y_teste, SGDCprev, average='micro')"
      ],
      "execution_count": 93,
      "outputs": [
        {
          "output_type": "execute_result",
          "data": {
            "text/plain": [
              "0.325"
            ]
          },
          "metadata": {},
          "execution_count": 93
        }
      ]
    },
    {
      "cell_type": "code",
      "metadata": {
        "colab": {
          "base_uri": "https://localhost:8080/"
        },
        "id": "xlpBfqpUi1W3",
        "outputId": "f421641e-47f9-46fb-a843-ad9c2b73e495"
      },
      "source": [
        "recall_score(y_teste, SGDCprev, average='micro')"
      ],
      "execution_count": 94,
      "outputs": [
        {
          "output_type": "execute_result",
          "data": {
            "text/plain": [
              "0.325"
            ]
          },
          "metadata": {},
          "execution_count": 94
        }
      ]
    },
    {
      "cell_type": "code",
      "metadata": {
        "colab": {
          "base_uri": "https://localhost:8080/"
        },
        "id": "LPWiRC3yiw_l",
        "outputId": "22c24644-dfae-42d4-e23c-b66b0147351f"
      },
      "source": [
        "precision_score(y_teste, SGDCprev, average='micro')"
      ],
      "execution_count": 95,
      "outputs": [
        {
          "output_type": "execute_result",
          "data": {
            "text/plain": [
              "0.325"
            ]
          },
          "metadata": {},
          "execution_count": 95
        }
      ]
    },
    {
      "cell_type": "code",
      "metadata": {
        "colab": {
          "base_uri": "https://localhost:8080/"
        },
        "id": "sVYoXt5Aiw4B",
        "outputId": "6092c95d-6343-4bc8-dc70-2d8e882ef012"
      },
      "source": [
        "cm = confusion_matrix(y_teste,SGDCprev)\n",
        "cm"
      ],
      "execution_count": 96,
      "outputs": [
        {
          "output_type": "execute_result",
          "data": {
            "text/plain": [
              "array([[ 0, 51,  2],\n",
              "       [ 0, 52,  2],\n",
              "       [ 0, 53,  0]])"
            ]
          },
          "metadata": {},
          "execution_count": 96
        }
      ]
    },
    {
      "cell_type": "code",
      "metadata": {
        "colab": {
          "base_uri": "https://localhost:8080/",
          "height": 533
        },
        "id": "7shRcgdRiwsl",
        "outputId": "ae8d456c-af07-48f5-bbea-64ce16d7e12b"
      },
      "source": [
        "sns.heatmap(cm, annot=True);"
      ],
      "execution_count": 97,
      "outputs": [
        {
          "output_type": "display_data",
          "data": {
            "image/png": "[encoded data removed]",
            "text/plain": [
              "<Figure size 960x640 with 2 Axes>"
            ]
          },
          "metadata": {
            "needs_background": "light"
          }
        }
      ]
    },
    {
      "cell_type": "markdown",
      "metadata": {
        "id": "zxoZCH05H8YC"
      },
      "source": [
        "## Após as aplicação dos 4 modelos, foi verificado que o Random Forest Classifier foi o que apresentou a melhor taxa de acertos nos dados de teste, sendo assim, ele será utilizado para a confecção da API que será consultado em nosso sistema principal."
      ]
    }
  ]
}